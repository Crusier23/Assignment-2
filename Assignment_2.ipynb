{
 "cells": [
  {
   "cell_type": "code",
   "execution_count": null,
   "id": "4bd009ca-5db9-489c-9425-8aec314d36fb",
   "metadata": {},
   "outputs": [],
   "source": [
    "# Q1. How do you comment code in Python? What are the different types of comments?\n",
    " \n",
    "\"\"\"\n",
    "We use (#) or (' ') for single line comment and (''' ''') or (\"\"\" \"\"\")  for multiline comments in python. \n",
    "There are 2 types of comments in python. Single line and multi line comments.\n",
    "\"\"\"\n",
    "\n"
   ]
  },
  {
   "cell_type": "code",
   "execution_count": null,
   "id": "aeefb682-cd88-4c23-baa6-0ff925ced35c",
   "metadata": {},
   "outputs": [],
   "source": [
    "#Q2. What are variables in Python? How do you declare and assign values to variables?\n",
    "'''\n",
    "Python Variable is containers which store values. Python is not “statically typed”.\n",
    "We do not need to declare variables before using them or declare their type in python.\n",
    "A variable is created the moment we first assign a value to it. A Python variable is a name given to a memory location. \n",
    "'''"
   ]
  },
  {
   "cell_type": "code",
   "execution_count": null,
   "id": "cda7314a-e4fb-4b8a-ba84-f77c3999dbc5",
   "metadata": {},
   "outputs": [],
   "source": [
    "#Q3. How do you convert one data type to another in Python?\n",
    "'''\n",
    "There are two types of Type Conversion in Python:\n",
    "1)Implicit Type Conversion-: The Python interpreter automatically converts one data type to another without any user involvement.\n",
    "\n",
    "x = 10                                |  (OUTPUT)\n",
    "  print(\"x is of type:\",type(x))      | x is of type: <class 'int'> \n",
    "y = 10.6                              |\n",
    "  print(\"y is of type:\",type(y))      | y is of type: <class 'float'>\n",
    "z = x + y                             | \n",
    "  print(z)                            | 20.6\n",
    "print(\"z is of type:\",type(z))        | z is of type: <class 'float'>\n",
    "\n",
    "2)Explicit Type Conversion-: The data type is manually changed by the user as per our requirement.\n",
    "\n",
    "s = \"10010\"\n",
    "  \n",
    "# printing string converting to int base 2               |      (OUTPUT)\n",
    "c = int(s,2)                                             |\n",
    "print (\"After converting to integer base 2 : \", end=\"\")  |\n",
    "print (c)                                                |After converting to integer base 2 : 18\n",
    "                                                         |\n",
    "# printing string converting to float                    |\n",
    "e = float(s)                                             |\n",
    "print (\"After converting to float : \", end=\"\")           |\n",
    "print (e)                                                |After converting to float : 10010.0"
   ]
  },
  {
   "cell_type": "code",
   "execution_count": null,
   "id": "44c072ba-92b7-4831-bf0b-4e8da6776023",
   "metadata": {},
   "outputs": [],
   "source": [
    "# Q4. How do you write and execute a Python script from the command line?\n",
    "'''\n",
    "Steps to follow to write \n",
    "\n",
    ".Verify your terminal or command prompt can run Python\n",
    ".Create a Python script that is error-free and save it with the .py extension.\n",
    ".Use python your/file/name.py to run your script from the terminal\n",
    "'''\n",
    "\n"
   ]
  },
  {
   "cell_type": "code",
   "execution_count": null,
   "id": "efda9160-03a0-47bc-aea4-d0de48aeb1d9",
   "metadata": {
    "tags": []
   },
   "outputs": [],
   "source": [
    "#Q5. Given a list my_list = [1, 2, 3, 4, 5], write the code to slice the list and obtain the sub-list [2, 3].\n",
    "my_list = [1,2,3,4,5]\n",
    "\n",
    "print(my_list[1:3])\n",
    "# Prints [2,3]"
   ]
  },
  {
   "cell_type": "code",
   "execution_count": null,
   "id": "b97870ea-b5df-4917-84ad-275833d043a6",
   "metadata": {},
   "outputs": [],
   "source": [
    "#Q6. What is a complex number in mathematics, and how is it represented in Python?\n",
    "'''\n",
    "A complex number is a number that can be expressed in the form a + bi, \n",
    "where ‘a’ and ‘b’ are real numbers, and ‘i’ is the imaginary unit with the property i² = -1. ‘a’ is referred to as the real part,\n",
    "while ‘b’ is the imaginary part of the complex number.\n",
    "\n",
    "Python directly assigning the real and imaginary parts with the j notation:\n",
    "Ex-: y = 2 + 5j\n",
    "or by using the built-in complex() function, which accepts the real and imaginary parts as arguments and returns a complex number:\n",
    "Ex-: y = complex(2, 5)"
   ]
  },
  {
   "cell_type": "code",
   "execution_count": null,
   "id": "456ed1fd-7d58-49e9-8b68-25465accce10",
   "metadata": {},
   "outputs": [],
   "source": [
    "#Q7. What is the correct way to declare a variable named age and assign the value 25 to it?\n",
    "age= 25\n",
    "\n",
    "print(age)"
   ]
  },
  {
   "cell_type": "code",
   "execution_count": null,
   "id": "5446419e-672f-4379-9401-cc7f7f643d77",
   "metadata": {},
   "outputs": [],
   "source": [
    "#Q8. Declare a variable named price and assign the value 9.99 to it. What data type does this variable belong to?\n",
    "price= 9.99\n",
    "\n",
    "type(price)\n",
    "#Type of variable named price is float."
   ]
  },
  {
   "cell_type": "code",
   "execution_count": null,
   "id": "70f70b33-0ea7-49ac-a9f7-7f90793d962e",
   "metadata": {},
   "outputs": [],
   "source": [
    "#Q9. Create a variable named name and assign your full name to it as a string. How would you print the value of this variable?\n",
    "name= 'Om Gupta'\n",
    "\n",
    "print(name)\n",
    "#Prints my full name. We can also use double quotes also."
   ]
  },
  {
   "cell_type": "code",
   "execution_count": null,
   "id": "194e1e8b-16ca-4fc2-81ef-fef0f82b7935",
   "metadata": {},
   "outputs": [],
   "source": [
    "#Q10. Given the string \"Hello, World!\", extract the substring \"World\".\n",
    "string= \"Hello World!\"\n",
    "\n",
    "print(string[6:11])\n",
    "#prints only World without the '!'."
   ]
  },
  {
   "cell_type": "code",
   "execution_count": 9,
   "id": "cf010384-bd09-495b-a1d8-770592293cb8",
   "metadata": {},
   "outputs": [],
   "source": [
    "#Q11. Create a variable named \"is_student\" and assign it a boolean value indicating whether you are currently a student or not.\n",
    "is_student= True\n"
   ]
  }
 ],
 "metadata": {
  "kernelspec": {
   "display_name": "Python 3 (ipykernel)",
   "language": "python",
   "name": "python3"
  },
  "language_info": {
   "codemirror_mode": {
    "name": "ipython",
    "version": 3
   },
   "file_extension": ".py",
   "mimetype": "text/x-python",
   "name": "python",
   "nbconvert_exporter": "python",
   "pygments_lexer": "ipython3",
   "version": "3.10.8"
  }
 },
 "nbformat": 4,
 "nbformat_minor": 5
}
